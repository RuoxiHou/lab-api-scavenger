{
 "cells": [
  {
   "cell_type": "markdown",
   "id": "2eaf369f",
   "metadata": {},
   "source": [
    "### Your lab resolution :"
   ]
  },
  {
   "cell_type": "markdown",
   "id": "8ced42cb",
   "metadata": {},
   "source": [
    "Challenge 1: Fork Languages\n",
    "You will find out how many programming languages are used among all the forks created from the main lab repo of your bootcamp. Assuming the main lab repo is ironhack-datalabs/bcn-feb-2019, you will:\n",
    "\n",
    "Obtain the full list of forks created from the main lab repo via Github API.\n",
    "\n",
    "Loop the JSON response to find out the language attribute of each fork. Use an array to store the language attributes of each fork.\n",
    "\n",
    "Hint: Each language should appear only once in your array.\n",
    "Print the language array. It should be something like:\n",
    "\n",
    "[\"Python\", \"Jupyter Notebook\", \"HTML\"]"
   ]
  },
  {
   "cell_type": "code",
   "execution_count": 1,
   "id": "d5751f3e",
   "metadata": {},
   "outputs": [],
   "source": [
    "import json\n",
    "import requests"
   ]
  },
  {
   "cell_type": "code",
   "execution_count": 4,
   "id": "96c13eae",
   "metadata": {},
   "outputs": [],
   "source": [
    "# Specify the main lab repo\n",
    "repo_owner = \"ironhack-datalabs\"\n",
    "repo_name = \"bcn-feb-2019\"\n",
    "\n",
    "# GitHub API endpoint for listing forks\n",
    "forks_url = f\"https://api.github.com/repos/{repo_owner}/{repo_name}/forks\"\n",
    "\n",
    "# Make a GET request to the GitHub API\n",
    "response = requests.get(forks_url)\n",
    "\n",
    "\n"
   ]
  },
  {
   "cell_type": "code",
   "execution_count": 5,
   "id": "1b1449f7",
   "metadata": {},
   "outputs": [
    {
     "name": "stdout",
     "output_type": "stream",
     "text": [
      "Unique Languages: ['Python', 'Jupyter Notebook', 'HTML']\n"
     ]
    }
   ],
   "source": [
    "\n",
    "# Check if the request was successful (status code 200)\n",
    "if response.status_code == 200:\n",
    "    # Parse the JSON response\n",
    "    forks = response.json()\n",
    "\n",
    "    # Create an array to store unique languages\n",
    "    unique_languages = set()\n",
    "\n",
    "    # Loop through each fork\n",
    "    for fork in forks:\n",
    "        # Get the languages URL for each fork\n",
    "        language_url = fork['languages_url']\n",
    "\n",
    "        # Make a GET request to the languages URL\n",
    "        language_response = requests.get(language_url)\n",
    "\n",
    "        # Check if the request was successful (status code 200)\n",
    "        if language_response.status_code == 200:\n",
    "            # Get the language data for the fork\n",
    "            language_data = language_response.json()\n",
    "\n",
    "            # Add each language to the set (ensures uniqueness)\n",
    "            unique_languages.update(language_data.keys())\n",
    "        else:\n",
    "            print(f\"Failed to retrieve languages for fork {fork['full_name']}. Status Code: {language_response.status_code}\")\n",
    "\n",
    "    # Convert the set to a list for printing or further processing\n",
    "    language_list = list(unique_languages)\n",
    "\n",
    "    # Print the array of unique languages\n",
    "    print(\"Unique Languages:\", language_list)\n",
    "\n",
    "else:\n",
    "    # Print an error message if the request was not successful\n",
    "    print(f\"Failed to retrieve forks. Status Code: {response.status_code}\")"
   ]
  },
  {
   "cell_type": "code",
   "execution_count": 6,
   "id": "fa1f86c3",
   "metadata": {},
   "outputs": [
    {
     "data": {
      "text/plain": [
       "{'HTML', 'Jupyter Notebook', 'Python'}"
      ]
     },
     "execution_count": 6,
     "metadata": {},
     "output_type": "execute_result"
    }
   ],
   "source": [
    "unique_languages"
   ]
  },
  {
   "cell_type": "markdown",
   "id": "12500249",
   "metadata": {},
   "source": [
    "Challenge 2: Count Commits\n",
    "Assuming the main lab repo is ta-data-pt-rmt/lab-mysql-first-queries, you will count how many commits were made in the past 3 weeks:\n",
    "\n",
    "Obtain all the commits made in the past 3 weeks via API, which is a JSON array that contains multiple commit objects.\n",
    "\n",
    "Count how many commit objects are contained in the array.\n",
    "\n",
    "Notes:\n",
    "\n",
    "Github API documentation can be found here.\n",
    "\n",
    "You will need to study the Github API documentation to decide which API endpoint to call and what parameters to use in order to obtain the information you need. Unless you are already super familiar with Github API or super lucky, you probably will do some trials and errors. Therefore, be prepared to go back and forth in studying the API documentation, testing, and revising until you obtain what you need.\n",
    "\n",
    "After receiving the JSON data object, you need to inspect its structure and decide how to parse the data.\n",
    "\n",
    "When you test your requests with Github API, sometimes you may be blocked by Github with an error message that reads:\n",
    "\n",
    "You have triggered an abuse detection mechanism and have been temporarily blocked from content creation. Please retry your request again later.\n",
    "\n",
    "Don't worry. Check the parameters in your request and wait for a minute or two before you make additional requests."
   ]
  },
  {
   "cell_type": "code",
   "execution_count": 7,
   "id": "4a7dc4a0",
   "metadata": {},
   "outputs": [
    {
     "name": "stdout",
     "output_type": "stream",
     "text": [
      "Number of commits made in the past 3 weeks: 0\n"
     ]
    }
   ],
   "source": [
    "\n",
    "from datetime import datetime, timedelta\n",
    "\n",
    "# Specify the repository\n",
    "repo_owner = \"ta-data-pt-rmt\"\n",
    "repo_name = \"lab-mysql-first-queries\"\n",
    "\n",
    "# Calculate the date three weeks ago\n",
    "three_weeks_ago = datetime.now() - timedelta(weeks=3)\n",
    "formatted_date = three_weeks_ago.strftime(\"%Y-%m-%dT%H:%M:%SZ\")\n",
    "\n",
    "# GitHub API endpoint for listing commits\n",
    "commits_url = f\"https://api.github.com/repos/{repo_owner}/{repo_name}/commits\"\n",
    "\n",
    "# Parameters to filter commits by since parameter\n",
    "params = {\n",
    "    \"since\": formatted_date\n",
    "}\n",
    "\n",
    "# Make a GET request to the GitHub API\n",
    "response = requests.get(commits_url, params=params)\n",
    "\n",
    "# Check if the request was successful (status code 200)\n",
    "if response.status_code == 200:\n",
    "    # Parse the JSON response\n",
    "    commits = response.json()\n",
    "\n",
    "    # Print the number of commits made in the past 3 weeks\n",
    "    print(f\"Number of commits made in the past 3 weeks: {len(commits)}\")\n",
    "\n",
    "    # Print details of each commit if needed\n",
    "    for commit in commits:\n",
    "         print(f\"Commit SHA: {commit['sha']}, Author: {commit['commit']['author']['name']}, Date: {commit['commit']['author']['date']}\")\n",
    "\n",
    "else:\n",
    "    # Print an error message if the request was not successful\n",
    "    print(f\"Failed to retrieve commits. Status Code: {response.status_code}\")\n"
   ]
  },
  {
   "cell_type": "code",
   "execution_count": null,
   "id": "1a6c9e77",
   "metadata": {},
   "outputs": [],
   "source": []
  }
 ],
 "metadata": {
  "kernelspec": {
   "display_name": "Python 3",
   "language": "python",
   "name": "python3"
  },
  "language_info": {
   "codemirror_mode": {
    "name": "ipython",
    "version": 3
   },
   "file_extension": ".py",
   "mimetype": "text/x-python",
   "name": "python",
   "nbconvert_exporter": "python",
   "pygments_lexer": "ipython3",
   "version": "3.11.4"
  }
 },
 "nbformat": 4,
 "nbformat_minor": 5
}
